{
 "cells": [
  {
   "cell_type": "code",
   "execution_count": 1,
   "id": "3b67b1ee",
   "metadata": {
    "_cell_guid": "b1076dfc-b9ad-4769-8c92-a6c4dae69d19",
    "_uuid": "8f2839f25d086af736a60e9eeb907d3b93b6e0e5",
    "execution": {
     "iopub.execute_input": "2023-10-12T21:09:28.480811Z",
     "iopub.status.busy": "2023-10-12T21:09:28.480172Z",
     "iopub.status.idle": "2023-10-12T21:09:28.849380Z",
     "shell.execute_reply": "2023-10-12T21:09:28.848609Z"
    },
    "papermill": {
     "duration": 0.38122,
     "end_time": "2023-10-12T21:09:28.854380",
     "exception": false,
     "start_time": "2023-10-12T21:09:28.473160",
     "status": "completed"
    },
    "tags": []
   },
   "outputs": [
    {
     "name": "stdout",
     "output_type": "stream",
     "text": [
      "/kaggle/input/phishing-dataset-for-machine-learning/Phishing_Legitimate_full.csv\n"
     ]
    }
   ],
   "source": [
    "# This Python 3 environment comes with many helpful analytics libraries installed\n",
    "# It is defined by the kaggle/python Docker image: https://github.com/kaggle/docker-python\n",
    "# For example, here's several helpful packages to load\n",
    "\n",
    "import numpy as np # linear algebra\n",
    "import pandas as pd # data processing, CSV file I/O (e.g. pd.read_csv)\n",
    "\n",
    "# Input data files are available in the read-only \"../input/\" directory\n",
    "# For example, running this (by clicking run or pressing Shift+Enter) will list all files under the input directory\n",
    "\n",
    "import os\n",
    "for dirname, _, filenames in os.walk('/kaggle/input'):\n",
    "    for filename in filenames:\n",
    "        print(os.path.join(dirname, filename))\n",
    "\n",
    "# You can write up to 20GB to the current directory (/kaggle/working/) that gets preserved as output when you create a version using \"Save & Run All\" \n",
    "# You can also write temporary files to /kaggle/temp/, but they won't be saved outside of the current session"
   ]
  },
  {
   "cell_type": "code",
   "execution_count": 2,
   "id": "75b1cf3f",
   "metadata": {
    "execution": {
     "iopub.execute_input": "2023-10-12T21:09:28.868961Z",
     "iopub.status.busy": "2023-10-12T21:09:28.868425Z",
     "iopub.status.idle": "2023-10-12T21:09:39.720755Z",
     "shell.execute_reply": "2023-10-12T21:09:39.719829Z"
    },
    "papermill": {
     "duration": 10.861894,
     "end_time": "2023-10-12T21:09:39.723615",
     "exception": false,
     "start_time": "2023-10-12T21:09:28.861721",
     "status": "completed"
    },
    "tags": []
   },
   "outputs": [],
   "source": [
    "import numpy as np\n",
    "import matplotlib.pyplot as plt\n",
    "import seaborn as sns\n",
    "from sklearn.model_selection import train_test_split\n",
    "from sklearn.preprocessing import StandardScaler\n",
    "import tensorflow as tf\n",
    "from tensorflow import keras"
   ]
  },
  {
   "cell_type": "code",
   "execution_count": 3,
   "id": "41e980d3",
   "metadata": {
    "execution": {
     "iopub.execute_input": "2023-10-12T21:09:39.735889Z",
     "iopub.status.busy": "2023-10-12T21:09:39.735192Z",
     "iopub.status.idle": "2023-10-12T21:09:39.842261Z",
     "shell.execute_reply": "2023-10-12T21:09:39.840829Z"
    },
    "papermill": {
     "duration": 0.116056,
     "end_time": "2023-10-12T21:09:39.844943",
     "exception": false,
     "start_time": "2023-10-12T21:09:39.728887",
     "status": "completed"
    },
    "tags": []
   },
   "outputs": [],
   "source": [
    "import pandas as pd \n",
    "df = pd.read_csv(\"/kaggle/input/phishing-dataset-for-machine-learning/Phishing_Legitimate_full.csv\")"
   ]
  },
  {
   "cell_type": "code",
   "execution_count": 4,
   "id": "cfeb8149",
   "metadata": {
    "execution": {
     "iopub.execute_input": "2023-10-12T21:09:39.856744Z",
     "iopub.status.busy": "2023-10-12T21:09:39.856297Z",
     "iopub.status.idle": "2023-10-12T21:09:39.892380Z",
     "shell.execute_reply": "2023-10-12T21:09:39.891234Z"
    },
    "papermill": {
     "duration": 0.045032,
     "end_time": "2023-10-12T21:09:39.895038",
     "exception": false,
     "start_time": "2023-10-12T21:09:39.850006",
     "status": "completed"
    },
    "tags": []
   },
   "outputs": [
    {
     "data": {
      "text/html": [
       "<div>\n",
       "<style scoped>\n",
       "    .dataframe tbody tr th:only-of-type {\n",
       "        vertical-align: middle;\n",
       "    }\n",
       "\n",
       "    .dataframe tbody tr th {\n",
       "        vertical-align: top;\n",
       "    }\n",
       "\n",
       "    .dataframe thead th {\n",
       "        text-align: right;\n",
       "    }\n",
       "</style>\n",
       "<table border=\"1\" class=\"dataframe\">\n",
       "  <thead>\n",
       "    <tr style=\"text-align: right;\">\n",
       "      <th></th>\n",
       "      <th>id</th>\n",
       "      <th>NumDots</th>\n",
       "      <th>SubdomainLevel</th>\n",
       "      <th>PathLevel</th>\n",
       "      <th>UrlLength</th>\n",
       "      <th>NumDash</th>\n",
       "      <th>NumDashInHostname</th>\n",
       "      <th>AtSymbol</th>\n",
       "      <th>TildeSymbol</th>\n",
       "      <th>NumUnderscore</th>\n",
       "      <th>...</th>\n",
       "      <th>IframeOrFrame</th>\n",
       "      <th>MissingTitle</th>\n",
       "      <th>ImagesOnlyInForm</th>\n",
       "      <th>SubdomainLevelRT</th>\n",
       "      <th>UrlLengthRT</th>\n",
       "      <th>PctExtResourceUrlsRT</th>\n",
       "      <th>AbnormalExtFormActionR</th>\n",
       "      <th>ExtMetaScriptLinkRT</th>\n",
       "      <th>PctExtNullSelfRedirectHyperlinksRT</th>\n",
       "      <th>CLASS_LABEL</th>\n",
       "    </tr>\n",
       "  </thead>\n",
       "  <tbody>\n",
       "    <tr>\n",
       "      <th>0</th>\n",
       "      <td>1</td>\n",
       "      <td>3</td>\n",
       "      <td>1</td>\n",
       "      <td>5</td>\n",
       "      <td>72</td>\n",
       "      <td>0</td>\n",
       "      <td>0</td>\n",
       "      <td>0</td>\n",
       "      <td>0</td>\n",
       "      <td>0</td>\n",
       "      <td>...</td>\n",
       "      <td>0</td>\n",
       "      <td>0</td>\n",
       "      <td>1</td>\n",
       "      <td>1</td>\n",
       "      <td>0</td>\n",
       "      <td>1</td>\n",
       "      <td>1</td>\n",
       "      <td>-1</td>\n",
       "      <td>1</td>\n",
       "      <td>1</td>\n",
       "    </tr>\n",
       "    <tr>\n",
       "      <th>1</th>\n",
       "      <td>2</td>\n",
       "      <td>3</td>\n",
       "      <td>1</td>\n",
       "      <td>3</td>\n",
       "      <td>144</td>\n",
       "      <td>0</td>\n",
       "      <td>0</td>\n",
       "      <td>0</td>\n",
       "      <td>0</td>\n",
       "      <td>2</td>\n",
       "      <td>...</td>\n",
       "      <td>0</td>\n",
       "      <td>0</td>\n",
       "      <td>0</td>\n",
       "      <td>1</td>\n",
       "      <td>-1</td>\n",
       "      <td>1</td>\n",
       "      <td>1</td>\n",
       "      <td>1</td>\n",
       "      <td>1</td>\n",
       "      <td>1</td>\n",
       "    </tr>\n",
       "    <tr>\n",
       "      <th>2</th>\n",
       "      <td>3</td>\n",
       "      <td>3</td>\n",
       "      <td>1</td>\n",
       "      <td>2</td>\n",
       "      <td>58</td>\n",
       "      <td>0</td>\n",
       "      <td>0</td>\n",
       "      <td>0</td>\n",
       "      <td>0</td>\n",
       "      <td>0</td>\n",
       "      <td>...</td>\n",
       "      <td>0</td>\n",
       "      <td>0</td>\n",
       "      <td>0</td>\n",
       "      <td>1</td>\n",
       "      <td>0</td>\n",
       "      <td>-1</td>\n",
       "      <td>1</td>\n",
       "      <td>-1</td>\n",
       "      <td>0</td>\n",
       "      <td>1</td>\n",
       "    </tr>\n",
       "    <tr>\n",
       "      <th>3</th>\n",
       "      <td>4</td>\n",
       "      <td>3</td>\n",
       "      <td>1</td>\n",
       "      <td>6</td>\n",
       "      <td>79</td>\n",
       "      <td>1</td>\n",
       "      <td>0</td>\n",
       "      <td>0</td>\n",
       "      <td>0</td>\n",
       "      <td>0</td>\n",
       "      <td>...</td>\n",
       "      <td>0</td>\n",
       "      <td>0</td>\n",
       "      <td>0</td>\n",
       "      <td>1</td>\n",
       "      <td>-1</td>\n",
       "      <td>1</td>\n",
       "      <td>1</td>\n",
       "      <td>1</td>\n",
       "      <td>-1</td>\n",
       "      <td>1</td>\n",
       "    </tr>\n",
       "    <tr>\n",
       "      <th>4</th>\n",
       "      <td>5</td>\n",
       "      <td>3</td>\n",
       "      <td>0</td>\n",
       "      <td>4</td>\n",
       "      <td>46</td>\n",
       "      <td>0</td>\n",
       "      <td>0</td>\n",
       "      <td>0</td>\n",
       "      <td>0</td>\n",
       "      <td>0</td>\n",
       "      <td>...</td>\n",
       "      <td>1</td>\n",
       "      <td>0</td>\n",
       "      <td>0</td>\n",
       "      <td>1</td>\n",
       "      <td>1</td>\n",
       "      <td>-1</td>\n",
       "      <td>0</td>\n",
       "      <td>-1</td>\n",
       "      <td>-1</td>\n",
       "      <td>1</td>\n",
       "    </tr>\n",
       "  </tbody>\n",
       "</table>\n",
       "<p>5 rows × 50 columns</p>\n",
       "</div>"
      ],
      "text/plain": [
       "   id  NumDots  SubdomainLevel  PathLevel  UrlLength  NumDash  \\\n",
       "0   1        3               1          5         72        0   \n",
       "1   2        3               1          3        144        0   \n",
       "2   3        3               1          2         58        0   \n",
       "3   4        3               1          6         79        1   \n",
       "4   5        3               0          4         46        0   \n",
       "\n",
       "   NumDashInHostname  AtSymbol  TildeSymbol  NumUnderscore  ...  \\\n",
       "0                  0         0            0              0  ...   \n",
       "1                  0         0            0              2  ...   \n",
       "2                  0         0            0              0  ...   \n",
       "3                  0         0            0              0  ...   \n",
       "4                  0         0            0              0  ...   \n",
       "\n",
       "   IframeOrFrame  MissingTitle  ImagesOnlyInForm  SubdomainLevelRT  \\\n",
       "0              0             0                 1                 1   \n",
       "1              0             0                 0                 1   \n",
       "2              0             0                 0                 1   \n",
       "3              0             0                 0                 1   \n",
       "4              1             0                 0                 1   \n",
       "\n",
       "   UrlLengthRT  PctExtResourceUrlsRT  AbnormalExtFormActionR  \\\n",
       "0            0                     1                       1   \n",
       "1           -1                     1                       1   \n",
       "2            0                    -1                       1   \n",
       "3           -1                     1                       1   \n",
       "4            1                    -1                       0   \n",
       "\n",
       "   ExtMetaScriptLinkRT  PctExtNullSelfRedirectHyperlinksRT  CLASS_LABEL  \n",
       "0                   -1                                   1            1  \n",
       "1                    1                                   1            1  \n",
       "2                   -1                                   0            1  \n",
       "3                    1                                  -1            1  \n",
       "4                   -1                                  -1            1  \n",
       "\n",
       "[5 rows x 50 columns]"
      ]
     },
     "execution_count": 4,
     "metadata": {},
     "output_type": "execute_result"
    }
   ],
   "source": [
    "df.head()"
   ]
  },
  {
   "cell_type": "code",
   "execution_count": 5,
   "id": "9d330555",
   "metadata": {
    "execution": {
     "iopub.execute_input": "2023-10-12T21:09:39.908061Z",
     "iopub.status.busy": "2023-10-12T21:09:39.907614Z",
     "iopub.status.idle": "2023-10-12T21:09:39.917652Z",
     "shell.execute_reply": "2023-10-12T21:09:39.916445Z"
    },
    "papermill": {
     "duration": 0.019107,
     "end_time": "2023-10-12T21:09:39.919647",
     "exception": false,
     "start_time": "2023-10-12T21:09:39.900540",
     "status": "completed"
    },
    "tags": []
   },
   "outputs": [
    {
     "data": {
      "text/plain": [
       "id                                      int64\n",
       "NumDots                                 int64\n",
       "SubdomainLevel                          int64\n",
       "PathLevel                               int64\n",
       "UrlLength                               int64\n",
       "NumDash                                 int64\n",
       "NumDashInHostname                       int64\n",
       "AtSymbol                                int64\n",
       "TildeSymbol                             int64\n",
       "NumUnderscore                           int64\n",
       "NumPercent                              int64\n",
       "NumQueryComponents                      int64\n",
       "NumAmpersand                            int64\n",
       "NumHash                                 int64\n",
       "NumNumericChars                         int64\n",
       "NoHttps                                 int64\n",
       "RandomString                            int64\n",
       "IpAddress                               int64\n",
       "DomainInSubdomains                      int64\n",
       "DomainInPaths                           int64\n",
       "HttpsInHostname                         int64\n",
       "HostnameLength                          int64\n",
       "PathLength                              int64\n",
       "QueryLength                             int64\n",
       "DoubleSlashInPath                       int64\n",
       "NumSensitiveWords                       int64\n",
       "EmbeddedBrandName                       int64\n",
       "PctExtHyperlinks                      float64\n",
       "PctExtResourceUrls                    float64\n",
       "ExtFavicon                              int64\n",
       "InsecureForms                           int64\n",
       "RelativeFormAction                      int64\n",
       "ExtFormAction                           int64\n",
       "AbnormalFormAction                      int64\n",
       "PctNullSelfRedirectHyperlinks         float64\n",
       "FrequentDomainNameMismatch              int64\n",
       "FakeLinkInStatusBar                     int64\n",
       "RightClickDisabled                      int64\n",
       "PopUpWindow                             int64\n",
       "SubmitInfoToEmail                       int64\n",
       "IframeOrFrame                           int64\n",
       "MissingTitle                            int64\n",
       "ImagesOnlyInForm                        int64\n",
       "SubdomainLevelRT                        int64\n",
       "UrlLengthRT                             int64\n",
       "PctExtResourceUrlsRT                    int64\n",
       "AbnormalExtFormActionR                  int64\n",
       "ExtMetaScriptLinkRT                     int64\n",
       "PctExtNullSelfRedirectHyperlinksRT      int64\n",
       "CLASS_LABEL                             int64\n",
       "dtype: object"
      ]
     },
     "execution_count": 5,
     "metadata": {},
     "output_type": "execute_result"
    }
   ],
   "source": [
    "df.dtypes"
   ]
  },
  {
   "cell_type": "code",
   "execution_count": 6,
   "id": "3fbabbf2",
   "metadata": {
    "execution": {
     "iopub.execute_input": "2023-10-12T21:09:39.932402Z",
     "iopub.status.busy": "2023-10-12T21:09:39.931923Z",
     "iopub.status.idle": "2023-10-12T21:09:40.073016Z",
     "shell.execute_reply": "2023-10-12T21:09:40.071765Z"
    },
    "papermill": {
     "duration": 0.150478,
     "end_time": "2023-10-12T21:09:40.075386",
     "exception": false,
     "start_time": "2023-10-12T21:09:39.924908",
     "status": "completed"
    },
    "tags": []
   },
   "outputs": [
    {
     "data": {
      "text/html": [
       "<div>\n",
       "<style scoped>\n",
       "    .dataframe tbody tr th:only-of-type {\n",
       "        vertical-align: middle;\n",
       "    }\n",
       "\n",
       "    .dataframe tbody tr th {\n",
       "        vertical-align: top;\n",
       "    }\n",
       "\n",
       "    .dataframe thead th {\n",
       "        text-align: right;\n",
       "    }\n",
       "</style>\n",
       "<table border=\"1\" class=\"dataframe\">\n",
       "  <thead>\n",
       "    <tr style=\"text-align: right;\">\n",
       "      <th></th>\n",
       "      <th>id</th>\n",
       "      <th>NumDots</th>\n",
       "      <th>SubdomainLevel</th>\n",
       "      <th>PathLevel</th>\n",
       "      <th>UrlLength</th>\n",
       "      <th>NumDash</th>\n",
       "      <th>NumDashInHostname</th>\n",
       "      <th>AtSymbol</th>\n",
       "      <th>TildeSymbol</th>\n",
       "      <th>NumUnderscore</th>\n",
       "      <th>...</th>\n",
       "      <th>IframeOrFrame</th>\n",
       "      <th>MissingTitle</th>\n",
       "      <th>ImagesOnlyInForm</th>\n",
       "      <th>SubdomainLevelRT</th>\n",
       "      <th>UrlLengthRT</th>\n",
       "      <th>PctExtResourceUrlsRT</th>\n",
       "      <th>AbnormalExtFormActionR</th>\n",
       "      <th>ExtMetaScriptLinkRT</th>\n",
       "      <th>PctExtNullSelfRedirectHyperlinksRT</th>\n",
       "      <th>CLASS_LABEL</th>\n",
       "    </tr>\n",
       "  </thead>\n",
       "  <tbody>\n",
       "    <tr>\n",
       "      <th>count</th>\n",
       "      <td>10000.00000</td>\n",
       "      <td>10000.000000</td>\n",
       "      <td>10000.000000</td>\n",
       "      <td>10000.000000</td>\n",
       "      <td>10000.000000</td>\n",
       "      <td>10000.000000</td>\n",
       "      <td>10000.000000</td>\n",
       "      <td>10000.000000</td>\n",
       "      <td>10000.000000</td>\n",
       "      <td>10000.00000</td>\n",
       "      <td>...</td>\n",
       "      <td>10000.000000</td>\n",
       "      <td>10000.00000</td>\n",
       "      <td>10000.000000</td>\n",
       "      <td>10000.000000</td>\n",
       "      <td>10000.000000</td>\n",
       "      <td>10000.000000</td>\n",
       "      <td>10000.000000</td>\n",
       "      <td>10000.000000</td>\n",
       "      <td>10000.000000</td>\n",
       "      <td>10000.000000</td>\n",
       "    </tr>\n",
       "    <tr>\n",
       "      <th>mean</th>\n",
       "      <td>5000.50000</td>\n",
       "      <td>2.445100</td>\n",
       "      <td>0.586800</td>\n",
       "      <td>3.300300</td>\n",
       "      <td>70.264100</td>\n",
       "      <td>1.818000</td>\n",
       "      <td>0.138900</td>\n",
       "      <td>0.000300</td>\n",
       "      <td>0.013100</td>\n",
       "      <td>0.32320</td>\n",
       "      <td>...</td>\n",
       "      <td>0.339600</td>\n",
       "      <td>0.03220</td>\n",
       "      <td>0.030400</td>\n",
       "      <td>0.956600</td>\n",
       "      <td>0.020200</td>\n",
       "      <td>0.353300</td>\n",
       "      <td>0.793200</td>\n",
       "      <td>0.173400</td>\n",
       "      <td>0.314100</td>\n",
       "      <td>0.500000</td>\n",
       "    </tr>\n",
       "    <tr>\n",
       "      <th>std</th>\n",
       "      <td>2886.89568</td>\n",
       "      <td>1.346836</td>\n",
       "      <td>0.751214</td>\n",
       "      <td>1.863241</td>\n",
       "      <td>33.369877</td>\n",
       "      <td>3.106258</td>\n",
       "      <td>0.545744</td>\n",
       "      <td>0.017319</td>\n",
       "      <td>0.113709</td>\n",
       "      <td>1.11466</td>\n",
       "      <td>...</td>\n",
       "      <td>0.473597</td>\n",
       "      <td>0.17654</td>\n",
       "      <td>0.171694</td>\n",
       "      <td>0.248037</td>\n",
       "      <td>0.820036</td>\n",
       "      <td>0.888908</td>\n",
       "      <td>0.521019</td>\n",
       "      <td>0.755771</td>\n",
       "      <td>0.897843</td>\n",
       "      <td>0.500025</td>\n",
       "    </tr>\n",
       "    <tr>\n",
       "      <th>min</th>\n",
       "      <td>1.00000</td>\n",
       "      <td>1.000000</td>\n",
       "      <td>0.000000</td>\n",
       "      <td>0.000000</td>\n",
       "      <td>12.000000</td>\n",
       "      <td>0.000000</td>\n",
       "      <td>0.000000</td>\n",
       "      <td>0.000000</td>\n",
       "      <td>0.000000</td>\n",
       "      <td>0.00000</td>\n",
       "      <td>...</td>\n",
       "      <td>0.000000</td>\n",
       "      <td>0.00000</td>\n",
       "      <td>0.000000</td>\n",
       "      <td>-1.000000</td>\n",
       "      <td>-1.000000</td>\n",
       "      <td>-1.000000</td>\n",
       "      <td>-1.000000</td>\n",
       "      <td>-1.000000</td>\n",
       "      <td>-1.000000</td>\n",
       "      <td>0.000000</td>\n",
       "    </tr>\n",
       "    <tr>\n",
       "      <th>25%</th>\n",
       "      <td>2500.75000</td>\n",
       "      <td>2.000000</td>\n",
       "      <td>0.000000</td>\n",
       "      <td>2.000000</td>\n",
       "      <td>48.000000</td>\n",
       "      <td>0.000000</td>\n",
       "      <td>0.000000</td>\n",
       "      <td>0.000000</td>\n",
       "      <td>0.000000</td>\n",
       "      <td>0.00000</td>\n",
       "      <td>...</td>\n",
       "      <td>0.000000</td>\n",
       "      <td>0.00000</td>\n",
       "      <td>0.000000</td>\n",
       "      <td>1.000000</td>\n",
       "      <td>-1.000000</td>\n",
       "      <td>-1.000000</td>\n",
       "      <td>1.000000</td>\n",
       "      <td>0.000000</td>\n",
       "      <td>-1.000000</td>\n",
       "      <td>0.000000</td>\n",
       "    </tr>\n",
       "    <tr>\n",
       "      <th>50%</th>\n",
       "      <td>5000.50000</td>\n",
       "      <td>2.000000</td>\n",
       "      <td>1.000000</td>\n",
       "      <td>3.000000</td>\n",
       "      <td>62.000000</td>\n",
       "      <td>0.000000</td>\n",
       "      <td>0.000000</td>\n",
       "      <td>0.000000</td>\n",
       "      <td>0.000000</td>\n",
       "      <td>0.00000</td>\n",
       "      <td>...</td>\n",
       "      <td>0.000000</td>\n",
       "      <td>0.00000</td>\n",
       "      <td>0.000000</td>\n",
       "      <td>1.000000</td>\n",
       "      <td>0.000000</td>\n",
       "      <td>1.000000</td>\n",
       "      <td>1.000000</td>\n",
       "      <td>0.000000</td>\n",
       "      <td>1.000000</td>\n",
       "      <td>0.500000</td>\n",
       "    </tr>\n",
       "    <tr>\n",
       "      <th>75%</th>\n",
       "      <td>7500.25000</td>\n",
       "      <td>3.000000</td>\n",
       "      <td>1.000000</td>\n",
       "      <td>4.000000</td>\n",
       "      <td>84.000000</td>\n",
       "      <td>2.000000</td>\n",
       "      <td>0.000000</td>\n",
       "      <td>0.000000</td>\n",
       "      <td>0.000000</td>\n",
       "      <td>0.00000</td>\n",
       "      <td>...</td>\n",
       "      <td>1.000000</td>\n",
       "      <td>0.00000</td>\n",
       "      <td>0.000000</td>\n",
       "      <td>1.000000</td>\n",
       "      <td>1.000000</td>\n",
       "      <td>1.000000</td>\n",
       "      <td>1.000000</td>\n",
       "      <td>1.000000</td>\n",
       "      <td>1.000000</td>\n",
       "      <td>1.000000</td>\n",
       "    </tr>\n",
       "    <tr>\n",
       "      <th>max</th>\n",
       "      <td>10000.00000</td>\n",
       "      <td>21.000000</td>\n",
       "      <td>14.000000</td>\n",
       "      <td>18.000000</td>\n",
       "      <td>253.000000</td>\n",
       "      <td>55.000000</td>\n",
       "      <td>9.000000</td>\n",
       "      <td>1.000000</td>\n",
       "      <td>1.000000</td>\n",
       "      <td>18.00000</td>\n",
       "      <td>...</td>\n",
       "      <td>1.000000</td>\n",
       "      <td>1.00000</td>\n",
       "      <td>1.000000</td>\n",
       "      <td>1.000000</td>\n",
       "      <td>1.000000</td>\n",
       "      <td>1.000000</td>\n",
       "      <td>1.000000</td>\n",
       "      <td>1.000000</td>\n",
       "      <td>1.000000</td>\n",
       "      <td>1.000000</td>\n",
       "    </tr>\n",
       "  </tbody>\n",
       "</table>\n",
       "<p>8 rows × 50 columns</p>\n",
       "</div>"
      ],
      "text/plain": [
       "                id       NumDots  SubdomainLevel     PathLevel     UrlLength  \\\n",
       "count  10000.00000  10000.000000    10000.000000  10000.000000  10000.000000   \n",
       "mean    5000.50000      2.445100        0.586800      3.300300     70.264100   \n",
       "std     2886.89568      1.346836        0.751214      1.863241     33.369877   \n",
       "min        1.00000      1.000000        0.000000      0.000000     12.000000   \n",
       "25%     2500.75000      2.000000        0.000000      2.000000     48.000000   \n",
       "50%     5000.50000      2.000000        1.000000      3.000000     62.000000   \n",
       "75%     7500.25000      3.000000        1.000000      4.000000     84.000000   \n",
       "max    10000.00000     21.000000       14.000000     18.000000    253.000000   \n",
       "\n",
       "            NumDash  NumDashInHostname      AtSymbol   TildeSymbol  \\\n",
       "count  10000.000000       10000.000000  10000.000000  10000.000000   \n",
       "mean       1.818000           0.138900      0.000300      0.013100   \n",
       "std        3.106258           0.545744      0.017319      0.113709   \n",
       "min        0.000000           0.000000      0.000000      0.000000   \n",
       "25%        0.000000           0.000000      0.000000      0.000000   \n",
       "50%        0.000000           0.000000      0.000000      0.000000   \n",
       "75%        2.000000           0.000000      0.000000      0.000000   \n",
       "max       55.000000           9.000000      1.000000      1.000000   \n",
       "\n",
       "       NumUnderscore  ...  IframeOrFrame  MissingTitle  ImagesOnlyInForm  \\\n",
       "count    10000.00000  ...   10000.000000   10000.00000      10000.000000   \n",
       "mean         0.32320  ...       0.339600       0.03220          0.030400   \n",
       "std          1.11466  ...       0.473597       0.17654          0.171694   \n",
       "min          0.00000  ...       0.000000       0.00000          0.000000   \n",
       "25%          0.00000  ...       0.000000       0.00000          0.000000   \n",
       "50%          0.00000  ...       0.000000       0.00000          0.000000   \n",
       "75%          0.00000  ...       1.000000       0.00000          0.000000   \n",
       "max         18.00000  ...       1.000000       1.00000          1.000000   \n",
       "\n",
       "       SubdomainLevelRT   UrlLengthRT  PctExtResourceUrlsRT  \\\n",
       "count      10000.000000  10000.000000          10000.000000   \n",
       "mean           0.956600      0.020200              0.353300   \n",
       "std            0.248037      0.820036              0.888908   \n",
       "min           -1.000000     -1.000000             -1.000000   \n",
       "25%            1.000000     -1.000000             -1.000000   \n",
       "50%            1.000000      0.000000              1.000000   \n",
       "75%            1.000000      1.000000              1.000000   \n",
       "max            1.000000      1.000000              1.000000   \n",
       "\n",
       "       AbnormalExtFormActionR  ExtMetaScriptLinkRT  \\\n",
       "count            10000.000000         10000.000000   \n",
       "mean                 0.793200             0.173400   \n",
       "std                  0.521019             0.755771   \n",
       "min                 -1.000000            -1.000000   \n",
       "25%                  1.000000             0.000000   \n",
       "50%                  1.000000             0.000000   \n",
       "75%                  1.000000             1.000000   \n",
       "max                  1.000000             1.000000   \n",
       "\n",
       "       PctExtNullSelfRedirectHyperlinksRT   CLASS_LABEL  \n",
       "count                        10000.000000  10000.000000  \n",
       "mean                             0.314100      0.500000  \n",
       "std                              0.897843      0.500025  \n",
       "min                             -1.000000      0.000000  \n",
       "25%                             -1.000000      0.000000  \n",
       "50%                              1.000000      0.500000  \n",
       "75%                              1.000000      1.000000  \n",
       "max                              1.000000      1.000000  \n",
       "\n",
       "[8 rows x 50 columns]"
      ]
     },
     "execution_count": 6,
     "metadata": {},
     "output_type": "execute_result"
    }
   ],
   "source": [
    "df.describe()"
   ]
  },
  {
   "cell_type": "code",
   "execution_count": 7,
   "id": "236866f7",
   "metadata": {
    "execution": {
     "iopub.execute_input": "2023-10-12T21:09:40.089154Z",
     "iopub.status.busy": "2023-10-12T21:09:40.088637Z",
     "iopub.status.idle": "2023-10-12T21:09:40.096337Z",
     "shell.execute_reply": "2023-10-12T21:09:40.095021Z"
    },
    "papermill": {
     "duration": 0.017994,
     "end_time": "2023-10-12T21:09:40.099164",
     "exception": false,
     "start_time": "2023-10-12T21:09:40.081170",
     "status": "completed"
    },
    "tags": []
   },
   "outputs": [
    {
     "data": {
      "text/plain": [
       "(10000, 50)"
      ]
     },
     "execution_count": 7,
     "metadata": {},
     "output_type": "execute_result"
    }
   ],
   "source": [
    "df.shape"
   ]
  },
  {
   "cell_type": "code",
   "execution_count": 8,
   "id": "bb640961",
   "metadata": {
    "execution": {
     "iopub.execute_input": "2023-10-12T21:09:40.112640Z",
     "iopub.status.busy": "2023-10-12T21:09:40.112181Z",
     "iopub.status.idle": "2023-10-12T21:09:40.144466Z",
     "shell.execute_reply": "2023-10-12T21:09:40.142210Z"
    },
    "papermill": {
     "duration": 0.041823,
     "end_time": "2023-10-12T21:09:40.146724",
     "exception": false,
     "start_time": "2023-10-12T21:09:40.104901",
     "status": "completed"
    },
    "tags": []
   },
   "outputs": [
    {
     "name": "stdout",
     "output_type": "stream",
     "text": [
      "<class 'pandas.core.frame.DataFrame'>\n",
      "RangeIndex: 10000 entries, 0 to 9999\n",
      "Data columns (total 50 columns):\n",
      " #   Column                              Non-Null Count  Dtype  \n",
      "---  ------                              --------------  -----  \n",
      " 0   id                                  10000 non-null  int64  \n",
      " 1   NumDots                             10000 non-null  int64  \n",
      " 2   SubdomainLevel                      10000 non-null  int64  \n",
      " 3   PathLevel                           10000 non-null  int64  \n",
      " 4   UrlLength                           10000 non-null  int64  \n",
      " 5   NumDash                             10000 non-null  int64  \n",
      " 6   NumDashInHostname                   10000 non-null  int64  \n",
      " 7   AtSymbol                            10000 non-null  int64  \n",
      " 8   TildeSymbol                         10000 non-null  int64  \n",
      " 9   NumUnderscore                       10000 non-null  int64  \n",
      " 10  NumPercent                          10000 non-null  int64  \n",
      " 11  NumQueryComponents                  10000 non-null  int64  \n",
      " 12  NumAmpersand                        10000 non-null  int64  \n",
      " 13  NumHash                             10000 non-null  int64  \n",
      " 14  NumNumericChars                     10000 non-null  int64  \n",
      " 15  NoHttps                             10000 non-null  int64  \n",
      " 16  RandomString                        10000 non-null  int64  \n",
      " 17  IpAddress                           10000 non-null  int64  \n",
      " 18  DomainInSubdomains                  10000 non-null  int64  \n",
      " 19  DomainInPaths                       10000 non-null  int64  \n",
      " 20  HttpsInHostname                     10000 non-null  int64  \n",
      " 21  HostnameLength                      10000 non-null  int64  \n",
      " 22  PathLength                          10000 non-null  int64  \n",
      " 23  QueryLength                         10000 non-null  int64  \n",
      " 24  DoubleSlashInPath                   10000 non-null  int64  \n",
      " 25  NumSensitiveWords                   10000 non-null  int64  \n",
      " 26  EmbeddedBrandName                   10000 non-null  int64  \n",
      " 27  PctExtHyperlinks                    10000 non-null  float64\n",
      " 28  PctExtResourceUrls                  10000 non-null  float64\n",
      " 29  ExtFavicon                          10000 non-null  int64  \n",
      " 30  InsecureForms                       10000 non-null  int64  \n",
      " 31  RelativeFormAction                  10000 non-null  int64  \n",
      " 32  ExtFormAction                       10000 non-null  int64  \n",
      " 33  AbnormalFormAction                  10000 non-null  int64  \n",
      " 34  PctNullSelfRedirectHyperlinks       10000 non-null  float64\n",
      " 35  FrequentDomainNameMismatch          10000 non-null  int64  \n",
      " 36  FakeLinkInStatusBar                 10000 non-null  int64  \n",
      " 37  RightClickDisabled                  10000 non-null  int64  \n",
      " 38  PopUpWindow                         10000 non-null  int64  \n",
      " 39  SubmitInfoToEmail                   10000 non-null  int64  \n",
      " 40  IframeOrFrame                       10000 non-null  int64  \n",
      " 41  MissingTitle                        10000 non-null  int64  \n",
      " 42  ImagesOnlyInForm                    10000 non-null  int64  \n",
      " 43  SubdomainLevelRT                    10000 non-null  int64  \n",
      " 44  UrlLengthRT                         10000 non-null  int64  \n",
      " 45  PctExtResourceUrlsRT                10000 non-null  int64  \n",
      " 46  AbnormalExtFormActionR              10000 non-null  int64  \n",
      " 47  ExtMetaScriptLinkRT                 10000 non-null  int64  \n",
      " 48  PctExtNullSelfRedirectHyperlinksRT  10000 non-null  int64  \n",
      " 49  CLASS_LABEL                         10000 non-null  int64  \n",
      "dtypes: float64(3), int64(47)\n",
      "memory usage: 3.8 MB\n"
     ]
    }
   ],
   "source": [
    "df.info()"
   ]
  },
  {
   "cell_type": "code",
   "execution_count": 9,
   "id": "93cf90b9",
   "metadata": {
    "execution": {
     "iopub.execute_input": "2023-10-12T21:09:40.160773Z",
     "iopub.status.busy": "2023-10-12T21:09:40.160262Z",
     "iopub.status.idle": "2023-10-12T21:09:40.169080Z",
     "shell.execute_reply": "2023-10-12T21:09:40.167615Z"
    },
    "papermill": {
     "duration": 0.018939,
     "end_time": "2023-10-12T21:09:40.171547",
     "exception": false,
     "start_time": "2023-10-12T21:09:40.152608",
     "status": "completed"
    },
    "tags": []
   },
   "outputs": [
    {
     "name": "stdout",
     "output_type": "stream",
     "text": [
      "CLASS_LABEL\n",
      "1    5000\n",
      "0    5000\n",
      "Name: count, dtype: int64\n"
     ]
    }
   ],
   "source": [
    "class_counts = df['CLASS_LABEL'].value_counts()\n",
    "print(class_counts)"
   ]
  },
  {
   "cell_type": "code",
   "execution_count": 10,
   "id": "a8fd148a",
   "metadata": {
    "execution": {
     "iopub.execute_input": "2023-10-12T21:09:40.186312Z",
     "iopub.status.busy": "2023-10-12T21:09:40.185885Z",
     "iopub.status.idle": "2023-10-12T21:09:40.486871Z",
     "shell.execute_reply": "2023-10-12T21:09:40.485792Z"
    },
    "papermill": {
     "duration": 0.31187,
     "end_time": "2023-10-12T21:09:40.489463",
     "exception": false,
     "start_time": "2023-10-12T21:09:40.177593",
     "status": "completed"
    },
    "tags": []
   },
   "outputs": [
    {
     "data": {
      "image/png": "[encoded data removed]",
      "text/plain": [
       "<Figure size 800x600 with 1 Axes>"
      ]
     },
     "metadata": {},
     "output_type": "display_data"
    }
   ],
   "source": [
    "plt.figure(figsize=(8, 6))\n",
    "class_counts.plot(kind='bar', color='skyblue')\n",
    "plt.title('Class Label Counts')\n",
    "plt.xlabel('Class Label')\n",
    "plt.ylabel('Count')\n",
    "\n",
    "\n",
    "plt.show()"
   ]
  },
  {
   "cell_type": "code",
   "execution_count": 11,
   "id": "809f06ab",
   "metadata": {
    "execution": {
     "iopub.execute_input": "2023-10-12T21:09:40.505933Z",
     "iopub.status.busy": "2023-10-12T21:09:40.504631Z",
     "iopub.status.idle": "2023-10-12T21:09:40.533084Z",
     "shell.execute_reply": "2023-10-12T21:09:40.531286Z"
    },
    "papermill": {
     "duration": 0.039146,
     "end_time": "2023-10-12T21:09:40.535622",
     "exception": false,
     "start_time": "2023-10-12T21:09:40.496476",
     "status": "completed"
    },
    "tags": []
   },
   "outputs": [
    {
     "name": "stdout",
     "output_type": "stream",
     "text": [
      "Correlation between id and CLASS_LABEL: -0.87\n",
      "Correlation between HttpsInHostname and CLASS_LABEL: nan\n",
      "Correlation between PctExtNullSelfRedirectHyperlinksRT and CLASS_LABEL: -0.54\n",
      "Correlation between FrequentDomainNameMismatch and CLASS_LABEL: 0.46\n",
      "Correlation between NumDash and CLASS_LABEL: -0.37\n",
      "Correlation between SubmitInfoToEmail and CLASS_LABEL: -0.36\n",
      "Correlation between PctNullSelfRedirectHyperlinks and CLASS_LABEL: 0.34\n",
      "Correlation between InsecureForms and CLASS_LABEL: 0.32\n",
      "Correlation between NumDots and CLASS_LABEL: 0.29\n",
      "Correlation between PctExtHyperlinks and CLASS_LABEL: 0.26\n",
      "Correlation between NumSensitiveWords and CLASS_LABEL: 0.26\n",
      "Correlation between IframeOrFrame and CLASS_LABEL: -0.24\n",
      "Correlation between PathLevel and CLASS_LABEL: 0.23\n",
      "Correlation between AbnormalExtFormActionR and CLASS_LABEL: 0.19\n",
      "Correlation between UrlLengthRT and CLASS_LABEL: 0.17\n",
      "Correlation between HostnameLength and CLASS_LABEL: 0.17\n",
      "Correlation between NumDashInHostname and CLASS_LABEL: 0.15\n",
      "Correlation between NumQueryComponents and CLASS_LABEL: -0.15\n",
      "Correlation between AbnormalFormAction and CLASS_LABEL: -0.15\n",
      "Correlation between EmbeddedBrandName and CLASS_LABEL: 0.14\n",
      "Correlation between IpAddress and CLASS_LABEL: 0.13\n",
      "Correlation between DomainInPaths and CLASS_LABEL: -0.12\n",
      "Correlation between MissingTitle and CLASS_LABEL: 0.12\n",
      "Correlation between ExtMetaScriptLinkRT and CLASS_LABEL: 0.11\n",
      "Correlation between ExtFormAction and CLASS_LABEL: -0.11\n",
      "Correlation between DomainInSubdomains and CLASS_LABEL: 0.10\n",
      "Correlation between NumUnderscore and CLASS_LABEL: -0.10\n",
      "Correlation between TildeSymbol and CLASS_LABEL: 0.10\n",
      "Correlation between RandomString and CLASS_LABEL: -0.09\n",
      "Correlation between RelativeFormAction and CLASS_LABEL: -0.08\n",
      "Correlation between NumAmpersand and CLASS_LABEL: -0.08\n",
      "Correlation between QueryLength and CLASS_LABEL: -0.08\n",
      "Correlation between PathLength and CLASS_LABEL: -0.08\n",
      "Correlation between SubdomainLevelRT and CLASS_LABEL: -0.08\n",
      "Correlation between RightClickDisabled and CLASS_LABEL: 0.07\n",
      "Correlation between UrlLength and CLASS_LABEL: -0.07\n",
      "Correlation between NoHttps and CLASS_LABEL: -0.07\n",
      "Correlation between ExtFavicon and CLASS_LABEL: 0.07\n",
      "Correlation between NumPercent and CLASS_LABEL: -0.07\n",
      "Correlation between PopUpWindow and CLASS_LABEL: -0.07\n",
      "Correlation between PctExtResourceUrlsRT and CLASS_LABEL: 0.05\n",
      "Correlation between NumHash and CLASS_LABEL: 0.05\n",
      "Correlation between SubdomainLevel and CLASS_LABEL: 0.04\n",
      "Correlation between DoubleSlashInPath and CLASS_LABEL: 0.02\n",
      "Correlation between PctExtResourceUrls and CLASS_LABEL: -0.02\n",
      "Correlation between NumNumericChars and CLASS_LABEL: 0.02\n",
      "Correlation between AtSymbol and CLASS_LABEL: -0.02\n",
      "Correlation between FakeLinkInStatusBar and CLASS_LABEL: -0.01\n",
      "Correlation between ImagesOnlyInForm and CLASS_LABEL: -0.00\n"
     ]
    }
   ],
   "source": [
    "correlations = []\n",
    "for feature in df.columns[:-1]:  \n",
    "    correlation = df['CLASS_LABEL'].corr(df[feature])\n",
    "    correlations.append((feature, correlation))\n",
    "\n",
    "\n",
    "correlations.sort(key=lambda x: abs(x[1]), reverse=True)\n",
    "\n",
    "\n",
    "for feature, correlation in correlations:\n",
    "    print(f\"Correlation between {feature} and CLASS_LABEL: {correlation:.2f}\")"
   ]
  },
  {
   "cell_type": "code",
   "execution_count": 12,
   "id": "ca72cab5",
   "metadata": {
    "execution": {
     "iopub.execute_input": "2023-10-12T21:09:40.551998Z",
     "iopub.status.busy": "2023-10-12T21:09:40.551635Z",
     "iopub.status.idle": "2023-10-12T21:09:41.120621Z",
     "shell.execute_reply": "2023-10-12T21:09:41.119906Z"
    },
    "papermill": {
     "duration": 0.579626,
     "end_time": "2023-10-12T21:09:41.122968",
     "exception": false,
     "start_time": "2023-10-12T21:09:40.543342",
     "status": "completed"
    },
    "tags": []
   },
   "outputs": [
    {
     "data": {
      "image/png": "[encoded data removed]",
      "text/plain": [
       "<Figure size 1200x600 with 1 Axes>"
      ]
     },
     "metadata": {},
     "output_type": "display_data"
    }
   ],
   "source": [
    "feature_names, feature_correlations = zip(*correlations)\n",
    "plt.figure(figsize=(12, 6))\n",
    "plt.bar(feature_names, feature_correlations)\n",
    "plt.xlabel('Feature')\n",
    "plt.ylabel('Point Biserial Correlation')\n",
    "plt.xticks(rotation=90)\n",
    "plt.show()"
   ]
  },
  {
   "cell_type": "code",
   "execution_count": 13,
   "id": "3306507f",
   "metadata": {
    "execution": {
     "iopub.execute_input": "2023-10-12T21:09:41.143960Z",
     "iopub.status.busy": "2023-10-12T21:09:41.143591Z",
     "iopub.status.idle": "2023-10-12T21:09:41.187026Z",
     "shell.execute_reply": "2023-10-12T21:09:41.185676Z"
    },
    "papermill": {
     "duration": 0.056873,
     "end_time": "2023-10-12T21:09:41.189568",
     "exception": false,
     "start_time": "2023-10-12T21:09:41.132695",
     "status": "completed"
    },
    "tags": []
   },
   "outputs": [],
   "source": [
    "X = df.drop(columns=['CLASS_LABEL', 'id'])\n",
    "y = df['CLASS_LABEL']\n",
    "\n",
    "\n",
    "scaler = StandardScaler()\n",
    "X = scaler.fit_transform(X)\n",
    "\n",
    "X_train, X_test, y_train, y_test = train_test_split(X, y, test_size=0.2, random_state=42)"
   ]
  },
  {
   "cell_type": "code",
   "execution_count": 14,
   "id": "8fa7ebd9",
   "metadata": {
    "execution": {
     "iopub.execute_input": "2023-10-12T21:09:41.208006Z",
     "iopub.status.busy": "2023-10-12T21:09:41.207577Z",
     "iopub.status.idle": "2023-10-12T21:09:41.440291Z",
     "shell.execute_reply": "2023-10-12T21:09:41.438924Z"
    },
    "papermill": {
     "duration": 0.244864,
     "end_time": "2023-10-12T21:09:41.442987",
     "exception": false,
     "start_time": "2023-10-12T21:09:41.198123",
     "status": "completed"
    },
    "tags": []
   },
   "outputs": [],
   "source": [
    "model = keras.Sequential()\n",
    "\n",
    "# Add input layer\n",
    "model.add(keras.layers.Input(shape=(X_train.shape[1],)))\n",
    "\n",
    "# Add hidden layers\n",
    "model.add(keras.layers.Dense(64, activation='relu'))\n",
    "model.add(keras.layers.Dense(32, activation='relu'))\n",
    "\n",
    "# Add output layer\n",
    "model.add(keras.layers.Dense(1, activation='sigmoid')) \n",
    "\n",
    "# Compile the model\n",
    "model.compile(optimizer='adam', loss='binary_crossentropy', metrics=['accuracy'])"
   ]
  },
  {
   "cell_type": "code",
   "execution_count": 15,
   "id": "592b256b",
   "metadata": {
    "execution": {
     "iopub.execute_input": "2023-10-12T21:09:41.461536Z",
     "iopub.status.busy": "2023-10-12T21:09:41.460588Z",
     "iopub.status.idle": "2023-10-12T21:09:48.704627Z",
     "shell.execute_reply": "2023-10-12T21:09:48.703114Z"
    },
    "papermill": {
     "duration": 7.255719,
     "end_time": "2023-10-12T21:09:48.706791",
     "exception": false,
     "start_time": "2023-10-12T21:09:41.451072",
     "status": "completed"
    },
    "tags": []
   },
   "outputs": [
    {
     "name": "stdout",
     "output_type": "stream",
     "text": [
      "Epoch 1/10\n",
      "250/250 [==============================] - 2s 3ms/step - loss: 0.2561 - accuracy: 0.9014 - val_loss: 0.1437 - val_accuracy: 0.9445\n",
      "Epoch 2/10\n",
      "250/250 [==============================] - 1s 2ms/step - loss: 0.1248 - accuracy: 0.9531 - val_loss: 0.1267 - val_accuracy: 0.9545\n",
      "Epoch 3/10\n",
      "250/250 [==============================] - 1s 2ms/step - loss: 0.1033 - accuracy: 0.9595 - val_loss: 0.1185 - val_accuracy: 0.9570\n",
      "Epoch 4/10\n",
      "250/250 [==============================] - 1s 3ms/step - loss: 0.0884 - accuracy: 0.9665 - val_loss: 0.1058 - val_accuracy: 0.9600\n",
      "Epoch 5/10\n",
      "250/250 [==============================] - 1s 3ms/step - loss: 0.0754 - accuracy: 0.9712 - val_loss: 0.1012 - val_accuracy: 0.9610\n",
      "Epoch 6/10\n",
      "250/250 [==============================] - 1s 2ms/step - loss: 0.0667 - accuracy: 0.9751 - val_loss: 0.0937 - val_accuracy: 0.9630\n",
      "Epoch 7/10\n",
      "250/250 [==============================] - 1s 2ms/step - loss: 0.0579 - accuracy: 0.9812 - val_loss: 0.0890 - val_accuracy: 0.9670\n",
      "Epoch 8/10\n",
      "250/250 [==============================] - 1s 2ms/step - loss: 0.0525 - accuracy: 0.9824 - val_loss: 0.0879 - val_accuracy: 0.9670\n",
      "Epoch 9/10\n",
      "250/250 [==============================] - 1s 2ms/step - loss: 0.0468 - accuracy: 0.9837 - val_loss: 0.0828 - val_accuracy: 0.9700\n",
      "Epoch 10/10\n",
      "250/250 [==============================] - 1s 2ms/step - loss: 0.0418 - accuracy: 0.9860 - val_loss: 0.0856 - val_accuracy: 0.9715\n"
     ]
    },
    {
     "data": {
      "text/plain": [
       "<keras.callbacks.History at 0x79b1dd6e71f0>"
      ]
     },
     "execution_count": 15,
     "metadata": {},
     "output_type": "execute_result"
    }
   ],
   "source": [
    "model.fit(X_train, y_train, epochs=10, batch_size=32, validation_data=(X_test, y_test))"
   ]
  },
  {
   "cell_type": "code",
   "execution_count": 16,
   "id": "c2cf8a99",
   "metadata": {
    "execution": {
     "iopub.execute_input": "2023-10-12T21:09:48.739702Z",
     "iopub.status.busy": "2023-10-12T21:09:48.739061Z",
     "iopub.status.idle": "2023-10-12T21:09:59.029967Z",
     "shell.execute_reply": "2023-10-12T21:09:59.028736Z"
    },
    "papermill": {
     "duration": 10.310624,
     "end_time": "2023-10-12T21:09:59.032596",
     "exception": false,
     "start_time": "2023-10-12T21:09:48.721972",
     "status": "completed"
    },
    "tags": []
   },
   "outputs": [
    {
     "name": "stdout",
     "output_type": "stream",
     "text": [
      "Epoch 1/10\n",
      "250/250 [==============================] - 1s 2ms/step - loss: 0.0380 - accuracy: 0.9870 - val_loss: 0.0848 - val_accuracy: 0.9715\n",
      "Epoch 2/10\n",
      "250/250 [==============================] - 1s 2ms/step - loss: 0.0338 - accuracy: 0.9883 - val_loss: 0.0804 - val_accuracy: 0.9720\n",
      "Epoch 3/10\n",
      "250/250 [==============================] - 1s 2ms/step - loss: 0.0312 - accuracy: 0.9900 - val_loss: 0.0814 - val_accuracy: 0.9730\n",
      "Epoch 4/10\n",
      "250/250 [==============================] - 1s 2ms/step - loss: 0.0291 - accuracy: 0.9906 - val_loss: 0.0834 - val_accuracy: 0.9730\n",
      "Epoch 5/10\n",
      "250/250 [==============================] - 1s 2ms/step - loss: 0.0256 - accuracy: 0.9916 - val_loss: 0.0887 - val_accuracy: 0.9700\n",
      "Epoch 6/10\n",
      "250/250 [==============================] - 1s 2ms/step - loss: 0.0239 - accuracy: 0.9927 - val_loss: 0.0811 - val_accuracy: 0.9735\n",
      "Epoch 7/10\n",
      "250/250 [==============================] - 1s 2ms/step - loss: 0.0217 - accuracy: 0.9927 - val_loss: 0.0872 - val_accuracy: 0.9720\n",
      "Epoch 8/10\n",
      "250/250 [==============================] - 1s 2ms/step - loss: 0.0223 - accuracy: 0.9925 - val_loss: 0.0825 - val_accuracy: 0.9730\n",
      "Epoch 9/10\n",
      "250/250 [==============================] - 1s 2ms/step - loss: 0.0176 - accuracy: 0.9945 - val_loss: 0.0814 - val_accuracy: 0.9745\n",
      "Epoch 10/10\n",
      "250/250 [==============================] - 1s 2ms/step - loss: 0.0165 - accuracy: 0.9946 - val_loss: 0.0816 - val_accuracy: 0.9755\n"
     ]
    },
    {
     "data": {
      "text/plain": [
       "<keras.callbacks.History at 0x79b1b870f730>"
      ]
     },
     "execution_count": 16,
     "metadata": {},
     "output_type": "execute_result"
    }
   ],
   "source": [
    "model.fit(X_train, y_train, epochs=10, batch_size=32, validation_data=(X_test, y_test))"
   ]
  },
  {
   "cell_type": "code",
   "execution_count": 17,
   "id": "fadf23a3",
   "metadata": {
    "execution": {
     "iopub.execute_input": "2023-10-12T21:09:59.076852Z",
     "iopub.status.busy": "2023-10-12T21:09:59.076398Z",
     "iopub.status.idle": "2023-10-12T21:09:59.246114Z",
     "shell.execute_reply": "2023-10-12T21:09:59.244809Z"
    },
    "papermill": {
     "duration": 0.194974,
     "end_time": "2023-10-12T21:09:59.248587",
     "exception": false,
     "start_time": "2023-10-12T21:09:59.053613",
     "status": "completed"
    },
    "tags": []
   },
   "outputs": [
    {
     "name": "stdout",
     "output_type": "stream",
     "text": [
      "63/63 [==============================] - 0s 1ms/step - loss: 0.0816 - accuracy: 0.9755\n",
      "Test Accuracy: 97.55%\n"
     ]
    }
   ],
   "source": [
    "test_loss, test_accuracy = model.evaluate(X_test, y_test)\n",
    "print(f'Test Accuracy: {test_accuracy * 100:.2f}%')"
   ]
  },
  {
   "cell_type": "code",
   "execution_count": 18,
   "id": "09572dad",
   "metadata": {
    "execution": {
     "iopub.execute_input": "2023-10-12T21:09:59.292592Z",
     "iopub.status.busy": "2023-10-12T21:09:59.291989Z",
     "iopub.status.idle": "2023-10-12T21:09:59.550166Z",
     "shell.execute_reply": "2023-10-12T21:09:59.548929Z"
    },
    "papermill": {
     "duration": 0.282167,
     "end_time": "2023-10-12T21:09:59.552638",
     "exception": false,
     "start_time": "2023-10-12T21:09:59.270471",
     "status": "completed"
    },
    "tags": []
   },
   "outputs": [
    {
     "name": "stdout",
     "output_type": "stream",
     "text": [
      "63/63 [==============================] - 0s 1ms/step\n"
     ]
    }
   ],
   "source": [
    "y_pred = model.predict(X_test)"
   ]
  },
  {
   "cell_type": "code",
   "execution_count": 19,
   "id": "29403a11",
   "metadata": {
    "execution": {
     "iopub.execute_input": "2023-10-12T21:09:59.595817Z",
     "iopub.status.busy": "2023-10-12T21:09:59.595366Z",
     "iopub.status.idle": "2023-10-12T21:09:59.601818Z",
     "shell.execute_reply": "2023-10-12T21:09:59.600369Z"
    },
    "papermill": {
     "duration": 0.03105,
     "end_time": "2023-10-12T21:09:59.604120",
     "exception": false,
     "start_time": "2023-10-12T21:09:59.573070",
     "status": "completed"
    },
    "tags": []
   },
   "outputs": [],
   "source": [
    "y_test = y_test.astype(int)\n",
    "y_pred = y_pred.astype(int)\n"
   ]
  },
  {
   "cell_type": "code",
   "execution_count": 20,
   "id": "e86e27f8",
   "metadata": {
    "execution": {
     "iopub.execute_input": "2023-10-12T21:09:59.649731Z",
     "iopub.status.busy": "2023-10-12T21:09:59.649273Z",
     "iopub.status.idle": "2023-10-12T21:09:59.667121Z",
     "shell.execute_reply": "2023-10-12T21:09:59.665437Z"
    },
    "papermill": {
     "duration": 0.043467,
     "end_time": "2023-10-12T21:09:59.669445",
     "exception": false,
     "start_time": "2023-10-12T21:09:59.625978",
     "status": "completed"
    },
    "tags": []
   },
   "outputs": [
    {
     "name": "stdout",
     "output_type": "stream",
     "text": [
      "Classification Report:\n",
      "              precision    recall  f1-score   support\n",
      "\n",
      "Non-Phishing       0.61      1.00      0.76       988\n",
      "    Phishing       1.00      0.38      0.56      1012\n",
      "\n",
      "    accuracy                           0.69      2000\n",
      "   macro avg       0.81      0.69      0.66      2000\n",
      "weighted avg       0.81      0.69      0.66      2000\n",
      "\n"
     ]
    }
   ],
   "source": [
    "from sklearn.metrics import accuracy_score, classification_report, confusion_matrix\n",
    "class_report = classification_report(y_test, y_pred, target_names=['Non-Phishing', 'Phishing'])\n",
    "print(\"Classification Report:\")\n",
    "print(class_report)\n",
    "\n"
   ]
  },
  {
   "cell_type": "code",
   "execution_count": 21,
   "id": "6aab2445",
   "metadata": {
    "execution": {
     "iopub.execute_input": "2023-10-12T21:09:59.714407Z",
     "iopub.status.busy": "2023-10-12T21:09:59.713103Z",
     "iopub.status.idle": "2023-10-12T21:10:00.159969Z",
     "shell.execute_reply": "2023-10-12T21:10:00.158613Z"
    },
    "papermill": {
     "duration": 0.471972,
     "end_time": "2023-10-12T21:10:00.162602",
     "exception": false,
     "start_time": "2023-10-12T21:09:59.690630",
     "status": "completed"
    },
    "tags": []
   },
   "outputs": [],
   "source": [
    "from sklearn.ensemble import RandomForestClassifier"
   ]
  },
  {
   "cell_type": "code",
   "execution_count": 22,
   "id": "5bd5afce",
   "metadata": {
    "execution": {
     "iopub.execute_input": "2023-10-12T21:10:00.205611Z",
     "iopub.status.busy": "2023-10-12T21:10:00.205173Z",
     "iopub.status.idle": "2023-10-12T21:10:01.284864Z",
     "shell.execute_reply": "2023-10-12T21:10:01.283711Z"
    },
    "papermill": {
     "duration": 1.10364,
     "end_time": "2023-10-12T21:10:01.286921",
     "exception": false,
     "start_time": "2023-10-12T21:10:00.183281",
     "status": "completed"
    },
    "tags": []
   },
   "outputs": [
    {
     "name": "stdout",
     "output_type": "stream",
     "text": [
      "Accuracy: 0.9825\n",
      "              precision    recall  f1-score   support\n",
      "\n",
      "           0       0.98      0.98      0.98       988\n",
      "           1       0.98      0.98      0.98      1012\n",
      "\n",
      "    accuracy                           0.98      2000\n",
      "   macro avg       0.98      0.98      0.98      2000\n",
      "weighted avg       0.98      0.98      0.98      2000\n",
      "\n"
     ]
    },
    {
     "data": {
      "text/plain": [
       "<Axes: >"
      ]
     },
     "execution_count": 22,
     "metadata": {},
     "output_type": "execute_result"
    },
    {
     "data": {
      "image/png": "[encoded data removed]",
      "text/plain": [
       "<Figure size 640x480 with 2 Axes>"
      ]
     },
     "metadata": {},
     "output_type": "display_data"
    }
   ],
   "source": [
    "model = RandomForestClassifier(n_estimators=100, random_state=42)\n",
    "\n",
    "# Model training\n",
    "model.fit(X_train, y_train)\n",
    "\n",
    "# Model evaluation\n",
    "y_pred = model.predict(X_test)\n",
    "accuracy = accuracy_score(y_test, y_pred)\n",
    "print(\"Accuracy:\", accuracy)\n",
    "print(classification_report(y_test, y_pred))\n",
    "conf_matrix = confusion_matrix(y_test, y_pred)\n",
    "sns.heatmap(conf_matrix, annot=True, cmap='Blues')"
   ]
  }
 ],
 "metadata": {
  "kernelspec": {
   "display_name": "Python 3",
   "language": "python",
   "name": "python3"
  },
  "language_info": {
   "codemirror_mode": {
    "name": "ipython",
    "version": 3
   },
   "file_extension": ".py",
   "mimetype": "text/x-python",
   "name": "python",
   "nbconvert_exporter": "python",
   "pygments_lexer": "ipython3",
   "version": "3.10.12"
  },
  "papermill": {
   "default_parameters": {},
   "duration": 38.138345,
   "end_time": "2023-10-12T21:10:03.390425",
   "environment_variables": {},
   "exception": null,
   "input_path": "__notebook__.ipynb",
   "output_path": "__notebook__.ipynb",
   "parameters": {},
   "start_time": "2023-10-12T21:09:25.252080",
   "version": "2.4.0"
  }
 },
 "nbformat": 4,
 "nbformat_minor": 5
}
